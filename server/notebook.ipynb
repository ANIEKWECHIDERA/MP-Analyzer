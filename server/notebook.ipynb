{
 "cells": [
  {
   "cell_type": "code",
   "execution_count": 22,
   "metadata": {},
   "outputs": [
    {
     "name": "stdout",
     "output_type": "stream",
     "text": [
      "458\n"
     ]
    }
   ],
   "source": [
    "import pandas as pd\n",
    "pd.set_option('display.max_rows', None)\n",
    "# pd.set_Option('display.max_rows', None)\n",
    "\n",
    "jundf = pd.read_excel(r\"C:\\Users\\chide\\Downloads\\JUNE 2025 MPR SCHEDULE FINAL.xlsx\", sheet_name='SUBTOTAL', skiprows=5)\n",
    "print(len(jundf.columns))\n",
    "juncol = jundf.columns"
   ]
  },
  {
   "cell_type": "code",
   "execution_count": 23,
   "id": "9e4ef3d9",
   "metadata": {},
   "outputs": [
    {
     "name": "stdout",
     "output_type": "stream",
     "text": [
      "456\n"
     ]
    }
   ],
   "source": [
    "pd.set_option('display.max_rows', None)\n",
    "# pd.set_Option('display.max_rows', None)\n",
    "\n",
    "juldf = pd.read_excel(r\"C:\\Users\\chide\\Downloads\\JULY ZONAL DISTRIBUTION FOR BRANCHES.xlsx\", skiprows=5)\n",
    "print(len(juldf.columns))\n",
    "\n",
    "julcol = juldf.columns"
   ]
  },
  {
   "cell_type": "code",
   "execution_count": 24,
   "id": "0d5fbbb3",
   "metadata": {},
   "outputs": [
    {
     "name": "stdout",
     "output_type": "stream",
     "text": [
      "456\n"
     ]
    }
   ],
   "source": [
    "pd.set_option('display.max_rows', None)\n",
    "# pd.set_Option('display.max_rows', None)\n",
    "\n",
    "testdf = pd.read_excel(r\"C:\\Users\\chide\\Downloads\\mpaStructure.xlsx\")\n",
    "print(len(testdf.columns))"
   ]
  },
  {
   "cell_type": "code",
   "execution_count": 25,
   "id": "19b1fe44",
   "metadata": {},
   "outputs": [
    {
     "name": "stdout",
     "output_type": "stream",
     "text": [
      "Columns in June but missing in July (9 columns):\n",
      "{'Unnamed: 97', 'Unnamed: 457', 6, 'Unnamed: 358', ' ', '6.1', 'Unnamed: 330', 'Unnamed: 456', 'stop'}\n"
     ]
    }
   ],
   "source": [
    "coldif = set(juncol) - set(julcol)\n",
    "\n",
    "print(f\"Columns in June but missing in July ({len(coldif)} columns):\")\n",
    "print(coldif)\n"
   ]
  },
  {
   "cell_type": "code",
   "execution_count": 28,
   "id": "e5d62f85",
   "metadata": {},
   "outputs": [
    {
     "name": "stdout",
     "output_type": "stream",
     "text": [
      "Actual meaningful columns in June but missing in July (2 columns):\n",
      "{' ', '6.1'}\n"
     ]
    }
   ],
   "source": [
    "import pandas as pd\n",
    "\n",
    "# Load June data\n",
    "jundf = pd.read_excel(r\"C:\\Users\\chide\\Downloads\\JUNE 2025 MPR SCHEDULE FINAL.xlsx\", sheet_name='SUBTOTAL', skiprows=5)\n",
    "juncol = jundf.columns\n",
    "\n",
    "# Load July data\n",
    "juldf = pd.read_excel(r\"C:\\Users\\chide\\Downloads\\JULY ZONAL DISTRIBUTION FOR BRANCHES.xlsx\", skiprows=5)\n",
    "julcol = juldf.columns\n",
    "\n",
    "# Function to filter out unnamed or junk columns (e.g. unnamed or numeric column names)\n",
    "def filter_columns(cols):\n",
    "    filtered = [\n",
    "        col for col in cols\n",
    "        if (not str(col).startswith('Unnamed')) and (not isinstance(col, (int, float)))\n",
    "    ]\n",
    "    return set(filtered)\n",
    "\n",
    "# Filter columns\n",
    "juncol_filtered = filter_columns(juncol)\n",
    "julcol_filtered = filter_columns(julcol)\n",
    "\n",
    "# Find difference: columns in June but missing in July\n",
    "coldif = juncol_filtered - julcol_filtered\n",
    "\n",
    "print(f\"Actual meaningful columns in June but missing in July ({len(coldif)} columns):\")\n",
    "print(coldif)\n"
   ]
  },
  {
   "cell_type": "markdown",
   "id": "f9270479",
   "metadata": {},
   "source": []
  }
 ],
 "metadata": {
  "kernelspec": {
   "display_name": "Python 3",
   "language": "python",
   "name": "python3"
  },
  "language_info": {
   "codemirror_mode": {
    "name": "ipython",
    "version": 3
   },
   "file_extension": ".py",
   "mimetype": "text/x-python",
   "name": "python",
   "nbconvert_exporter": "python",
   "pygments_lexer": "ipython3",
   "version": "3.10.11"
  }
 },
 "nbformat": 4,
 "nbformat_minor": 5
}
