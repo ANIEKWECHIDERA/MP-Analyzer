{
 "cells": [
  {
   "cell_type": "code",
   "execution_count": 22,
   "metadata": {},
   "outputs": [
    {
     "name": "stdout",
     "output_type": "stream",
     "text": [
      "458\n"
     ]
    }
   ],
   "source": [
    "import pandas as pd\n",
    "pd.set_option('display.max_rows', None)\n",
    "# pd.set_Option('display.max_rows', None)\n",
    "\n",
    "jundf = pd.read_excel(r\"C:\\Users\\chide\\Downloads\\JUNE 2025 MPR SCHEDULE FINAL.xlsx\", sheet_name='SUBTOTAL', skiprows=5)\n",
    "print(len(jundf.columns))\n",
    "juncol = jundf.columns"
   ]
  },
  {
   "cell_type": "code",
   "execution_count": null,
   "id": "39addd43",
   "metadata": {},
   "outputs": [],
   "source": []
  },
  {
   "cell_type": "code",
   "execution_count": 23,
   "id": "9e4ef3d9",
   "metadata": {},
   "outputs": [
    {
     "name": "stdout",
     "output_type": "stream",
     "text": [
      "456\n"
     ]
    }
   ],
   "source": [
    "pd.set_option('display.max_rows', None)\n",
    "# pd.set_Option('display.max_rows', None)\n",
    "\n",
    "juldf = pd.read_excel(r\"C:\\Users\\chide\\Downloads\\JULY ZONAL DISTRIBUTION FOR BRANCHES.xlsx\", skiprows=5)\n",
    "print(len(juldf.columns))\n",
    "\n",
    "julcol = juldf.columns"
   ]
  },
  {
   "cell_type": "code",
   "execution_count": 24,
   "id": "0d5fbbb3",
   "metadata": {},
   "outputs": [
    {
     "name": "stdout",
     "output_type": "stream",
     "text": [
      "456\n"
     ]
    }
   ],
   "source": [
    "pd.set_option('display.max_rows', None)\n",
    "# pd.set_Option('display.max_rows', None)\n",
    "\n",
    "testdf = pd.read_excel(r\"C:\\Users\\chide\\Downloads\\mpaStructure.xlsx\")\n",
    "print(len(testdf.columns))"
   ]
  },
  {
   "cell_type": "code",
   "execution_count": 25,
   "id": "19b1fe44",
   "metadata": {},
   "outputs": [
    {
     "name": "stdout",
     "output_type": "stream",
     "text": [
      "Columns in June but missing in July (9 columns):\n",
      "{'Unnamed: 97', 'Unnamed: 457', 6, 'Unnamed: 358', ' ', '6.1', 'Unnamed: 330', 'Unnamed: 456', 'stop'}\n"
     ]
    }
   ],
   "source": [
    "coldif = set(juncol) - set(julcol)\n",
    "\n",
    "print(f\"Columns in June but missing in July ({len(coldif)} columns):\")\n",
    "print(coldif)\n"
   ]
  },
  {
   "cell_type": "code",
   "execution_count": 28,
   "id": "e5d62f85",
   "metadata": {},
   "outputs": [
    {
     "name": "stdout",
     "output_type": "stream",
     "text": [
      "Actual meaningful columns in June but missing in July (2 columns):\n",
      "{' ', '6.1'}\n"
     ]
    }
   ],
   "source": [
    "import pandas as pd\n",
    "\n",
    "# Load June data\n",
    "jundf = pd.read_excel(r\"C:\\Users\\chide\\Downloads\\JUNE 2025 MPR SCHEDULE FINAL.xlsx\", sheet_name='SUBTOTAL', skiprows=5)\n",
    "juncol = jundf.columns\n",
    "\n",
    "# Load July data\n",
    "juldf = pd.read_excel(r\"C:\\Users\\chide\\Downloads\\JULY ZONAL DISTRIBUTION FOR BRANCHES.xlsx\", skiprows=5)\n",
    "julcol = juldf.columns\n",
    "\n",
    "# Function to filter out unnamed or junk columns (e.g. unnamed or numeric column names)\n",
    "def filter_columns(cols):\n",
    "    filtered = [\n",
    "        col for col in cols\n",
    "        if (not str(col).startswith('Unnamed')) and (not isinstance(col, (int, float)))\n",
    "    ]\n",
    "    return set(filtered)\n",
    "\n",
    "# Filter columns\n",
    "juncol_filtered = filter_columns(juncol)\n",
    "julcol_filtered = filter_columns(julcol)\n",
    "\n",
    "# Find difference: columns in June but missing in July\n",
    "coldif = juncol_filtered - julcol_filtered\n",
    "\n",
    "print(f\"Actual meaningful columns in June but missing in July ({len(coldif)} columns):\")\n",
    "print(coldif)\n"
   ]
  },
  {
   "cell_type": "code",
   "execution_count": 2,
   "id": "1f1dedae",
   "metadata": {},
   "outputs": [
    {
     "name": "stdout",
     "output_type": "stream",
     "text": [
      "\n",
      "Output:\n",
      "281 is 70.27% of 399\n",
      "54 is 13.50% of 399\n"
     ]
    }
   ],
   "source": [
    "def main():\n",
    "    # Get the total value from user\n",
    "    total_input = input(\"Enter total: \").replace(\",\", \"\").strip()\n",
    "    \n",
    "    # Validate total\n",
    "    try:\n",
    "        total = float(total_input)\n",
    "    except ValueError:\n",
    "        print(\"Invalid total value.\")\n",
    "        return\n",
    "\n",
    "    # Get the numbers from user\n",
    "    numbers_input = input(\"Enter number(s) (comma-separated): \")\n",
    "\n",
    "    # Split and clean numbers\n",
    "    number_strings = [num.strip().replace(\",\", \"\") for num in numbers_input.split(\",\") if num.strip()]\n",
    "    \n",
    "    # Process and calculate percentages\n",
    "    print(\"\\nOutput:\")\n",
    "    for num_str in number_strings:\n",
    "        try:\n",
    "            number = float(num_str)\n",
    "            percentage = (number / total) * 100\n",
    "            print(f\"{int(number):,} is {percentage:.2f}% of {int(total):,}\")\n",
    "        except ValueError:\n",
    "            print(f\"'{num_str}' is not a valid number.\")\n",
    "\n",
    "if __name__ == \"__main__\":\n",
    "    main()\n"
   ]
  },
  {
   "cell_type": "markdown",
   "id": "f9270479",
   "metadata": {},
   "source": []
  },
  {
   "cell_type": "code",
   "execution_count": null,
   "id": "8257ba91",
   "metadata": {},
   "outputs": [],
   "source": [
    "from decimal import Decimal\n",
    "import pandas as pd\n",
    "import logging\n",
    "\n",
    "logger = logging.getLogger(__name__)\n",
    "\n",
    "def get_variance(variance):\n",
    "    # Handle NaN or empty inputs\n",
    "    if pd.isna(variance) or variance == '':\n",
    "        logger.warning(f\"Invalid variance input: {variance}, returning 0.0\")\n",
    "        return Decimal('0.0')\n",
    "\n",
    "    # Handle string inputs\n",
    "    if isinstance(variance, str):\n",
    "        variance = variance.strip()\n",
    "        # Handle parentheses, e.g., \"(123.45)\"\n",
    "        if variance.startswith('(') and variance.endswith(')'):\n",
    "            try:\n",
    "                return -Decimal(variance[1:-1])\n",
    "            except (ValueError, TypeError):\n",
    "                logger.warning(f\"Invalid variance format in parentheses: {variance}, returning 0.0\")\n",
    "                return Decimal('0.0')\n",
    "        # Handle minus sign, e.g., \"-123.45\"\n",
    "        if variance.startswith('-'):\n",
    "            try:\n",
    "                return Decimal(variance)\n",
    "            except (ValueError, TypeError):\n",
    "                logger.warning(f\"Invalid variance format with minus sign: {variance}, returning 0.0\")\n",
    "                return Decimal('0.0')\n",
    "        # Handle plain number as string, e.g., \"123.45\"\n",
    "        try:\n",
    "            return Decimal(variance)\n",
    "        except (ValueError, TypeError):\n",
    "            logger.warning(f\"Invalid variance format: {variance}, returning 0.0\")\n",
    "            return Decimal('0.0')\n",
    "\n",
    "    # Handle numeric inputs (int, float, Decimal)\n",
    "    try:\n",
    "        return Decimal(str(variance))\n",
    "    except (ValueError, TypeError):\n",
    "        logger.warning(f\"Invalid variance input: {variance}, returning 0.0\")\n",
    "        return Decimal('0.0')"
   ]
  },
  {
   "cell_type": "code",
   "execution_count": null,
   "id": "c2cc4aeb",
   "metadata": {},
   "outputs": [],
   "source": [
    "  def get_variance(variance):\n",
    "        if isinstance(variance, str) and variance.startswith('-'):\n",
    "            return -float(variance[1:-1])  # Convert (xxx) to -xxx\n",
    "        return float(variance)"
   ]
  },
  {
   "cell_type": "code",
   "execution_count": null,
   "id": "e72fe58b",
   "metadata": {},
   "outputs": [],
   "source": [
    "get_variance(-9424.18956)"
   ]
  },
  {
   "cell_type": "code",
   "execution_count": null,
   "id": "d9fc6e41",
   "metadata": {},
   "outputs": [],
   "source": []
  }
 ],
 "metadata": {
  "kernelspec": {
   "display_name": "Python 3",
   "language": "python",
   "name": "python3"
  },
  "language_info": {
   "codemirror_mode": {
    "name": "ipython",
    "version": 3
   },
   "file_extension": ".py",
   "mimetype": "text/x-python",
   "name": "python",
   "nbconvert_exporter": "python",
   "pygments_lexer": "ipython3",
   "version": "3.10.11"
  }
 },
 "nbformat": 4,
 "nbformat_minor": 5
}
