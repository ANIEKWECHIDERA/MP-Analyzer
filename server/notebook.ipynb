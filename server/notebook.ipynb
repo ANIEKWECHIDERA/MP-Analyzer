{
 "cells": [
  {
   "cell_type": "code",
   "execution_count": 10,
   "metadata": {},
   "outputs": [],
   "source": [
    "import pandas as pd\n",
    "pd.set_option('display.max_rows', None)\n",
    "# pd.set_Option('display.max_rows', None)\n",
    "\n",
    "df = pd.read_excel(r\"C:\\Users\\chide\\Downloads\\testMpa.xlsx\")\n",
    "# df.columns.to_frame()\n"
   ]
  },
  {
   "cell_type": "code",
   "execution_count": 12,
   "id": "9e4ef3d9",
   "metadata": {},
   "outputs": [],
   "source": [
    "PBT_achieved = df[\"PBT 2025 YTD  ACHVD\"]\n",
    "PBT_budget = df[\"PBT 2025 FULL YR BGT\"]\n",
    "# PBT_perc_budget = PBT_achieved / PBT_budget * 100\n",
    "PBT_variance = df[\"PBT 2025 YOY VAR\"]\n",
    "PBT_run_rate = df[\"PBT Exp Run Rate\"]"
   ]
  },
  {
   "cell_type": "code",
   "execution_count": 14,
   "id": "19b1fe44",
   "metadata": {},
   "outputs": [
    {
     "name": "stdout",
     "output_type": "stream",
     "text": [
      "object object\n"
     ]
    }
   ],
   "source": [
    "print(PBT_achieved.dtype, PBT_budget.dtype)\n",
    "# print(PBT_achieved.head(), PBT_budget.head())"
   ]
  },
  {
   "cell_type": "code",
   "execution_count": null,
   "id": "e5d62f85",
   "metadata": {},
   "outputs": [],
   "source": []
  },
  {
   "cell_type": "markdown",
   "id": "f9270479",
   "metadata": {},
   "source": []
  }
 ],
 "metadata": {
  "kernelspec": {
   "display_name": "Python 3",
   "language": "python",
   "name": "python3"
  },
  "language_info": {
   "codemirror_mode": {
    "name": "ipython",
    "version": 3
   },
   "file_extension": ".py",
   "mimetype": "text/x-python",
   "name": "python",
   "nbconvert_exporter": "python",
   "pygments_lexer": "ipython3",
   "version": "3.10.11"
  }
 },
 "nbformat": 4,
 "nbformat_minor": 5
}
